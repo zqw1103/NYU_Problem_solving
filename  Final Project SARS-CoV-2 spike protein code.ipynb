{
 "cells": [
  {
   "cell_type": "code",
   "execution_count": 3,
   "metadata": {},
   "outputs": [],
   "source": [
    "# get protein fasta using term \"SARS-CoV-2 S protein\", MSA\n",
    "def fasta_data(name):\n",
    "    from Bio import Entrez\n",
    "    Entrez.email = 'zw2946@nyu.edu'\n",
    "    handle = Entrez.esearch(db='protein', term=name, retmax=300) #search based on disease name:SARS-CoV-2 S protein and return 300 seqs\n",
    "    record = Entrez.read(handle)\n",
    "    id_list = record['IdList']\n",
    "    efetch = Entrez.efetch(db='protein', id = id_list, rettype ='fasta', retmode = 'text') #fetch based on idlist \n",
    "    file = '/Users/zunqiuwang/Downloads/%s 300.fasta' % name #write to file\n",
    "    out = open(file, 'w')\n",
    "    out.write(efetch.read())\n",
    "def MSA(fasta_data, name):\n",
    "    import os\n",
    "    from Bio.Align.Applications import ClustalOmegaCommandline #using ClustalOmega to run MSA \n",
    "    in_file = '/Users/zunqiuwang/Downloads/%s 300.fasta' % name\n",
    "    out_file = '/Users/zunqiuwang/Downloads/%s_aligned_300seqs.aln' % name\n",
    "    clustalomega_cline = ClustalOmegaCommandline(infile=in_file, outfile=out_file, verbose=False, auto=False) #generate ClustalOmega command line\n",
    "    return(str(clustalomega_cline) + ' --resno' + ' --outfmt=clu')\n",
    "def runningMSA(MSA):\n",
    "    import os   \n",
    "    os.system(MSA) # run OS system of ClustalOmega command line\n",
    "def MSATree(fasta_data, name):\n",
    "    import os\n",
    "    from Bio.Align.Applications import ClustalOmegaCommandline #using ClustalOmega to run MSA \n",
    "    in_file = '/Users/zunqiuwang/Downloads/%s 300.fasta' % name\n",
    "    out_file = '/Users/zunqiuwang/Downloads/%s_aligned_300seqs.aln' % name\n",
    "    clustalomega_cline = ClustalOmegaCommandline(infile=in_file, outfile=out_file, verbose=False, auto=False) #generate ClustalOmega command line\n",
    "    return(str(clustalomega_cline) + ' --guidetree-out=globin.dnd')"
   ]
  },
  {
   "cell_type": "code",
   "execution_count": 333,
   "metadata": {},
   "outputs": [],
   "source": [
    "runningMSA(MSA(fasta_data('SARS-CoV-2 S protein'),'SARS-CoV-2 S protein'))"
   ]
  },
  {
   "cell_type": "code",
   "execution_count": 4,
   "metadata": {},
   "outputs": [],
   "source": [
    "runningMSA(MSATree(fasta_data('SARS-CoV-2 S protein'),'SARS-CoV-2 S protein'))"
   ]
  },
  {
   "cell_type": "code",
   "execution_count": 1,
   "metadata": {},
   "outputs": [
    {
     "name": "stderr",
     "output_type": "stream",
     "text": [
      "/Users/zunqiuwang/opt/anaconda3/lib/python3.8/site-packages/Bio/Phylo/_utils.py:642: UserWarning: Matplotlib is currently using agg, which is a non-GUI backend, so cannot show the figure.\n",
      "  plt.show()\n"
     ]
    }
   ],
   "source": [
    "import matplotlib as mpl\n",
    "mpl.use('Agg')\n",
    "import matplotlib.pyplot as pyplot\n",
    "from Bio import Phylo\n",
    "tree = Phylo.read('/Users/zunqiuwang/Downloads/SARS-CoV-2 S protein_aligned_300seqs.aln','newick')\n",
    "Phylo.draw(tree)\n",
    "pyplot.savefig(\"/Users/zunqiuwang/Downloads/myTree.png\")\n",
    "quit()"
   ]
  },
  {
   "cell_type": "code",
   "execution_count": 456,
   "metadata": {},
   "outputs": [],
   "source": [
    "# retrieve pubmed on 'SARS-CoV-2 Spike protein'\n",
    "def pubmed(name):\n",
    "    from Bio import Entrez\n",
    "    Entrez.email = 'zw2946@nyu.edu'\n",
    "    handle = Entrez.esearch(db='pubmed', term=name, retmax=10) #search based on disease name:SARS-CoV-2 Spike protein and return 200 seqs\n",
    "    record = Entrez.read(handle)\n",
    "    id_list = record['IdList']\n",
    "    efetch = Entrez.efetch(db='pubmed', id = id_list, rettype ='abstract', retmode = 'text') #fetch based on idlist \n",
    "    file = '/Users/zunqiuwang/Bioinfo assignments/Final Project/final codes/%s pubmed.txt' % name #write to file\n",
    "    out = open(file, 'w')\n",
    "    out.write(efetch.read())"
   ]
  },
  {
   "cell_type": "code",
   "execution_count": 457,
   "metadata": {},
   "outputs": [],
   "source": [
    "pubmed('SARS-CoV-2 Spike protein')"
   ]
  },
  {
   "cell_type": "code",
   "execution_count": 448,
   "metadata": {},
   "outputs": [],
   "source": [
    "# get protein fasta using term \"SARS-CoV-2 S protein\" and extract \"ACE2\" only seqs\n",
    "def fasta_data(name):    \n",
    "    from Bio import Entrez\n",
    "    Entrez.email = 'zw2946@nyu.edu'\n",
    "    handle = Entrez.esearch(db='protein', term=name, retmax=200) #search based on disease name:SARS-CoV-2 Spike protein and return 200 seqs\n",
    "    record = Entrez.read(handle)\n",
    "    id_list = record['IdList']\n",
    "    efetch = Entrez.efetch(db='protein', id = id_list, rettype ='fasta', retmode = 'text') #fetch based on idlist \n",
    "    file = '/Users/zunqiuwang/Bioinfo assignments/Final Project/final codes/%s 200.fasta' % name #write to file\n",
    "    out = open(file, 'w')\n",
    "    out.write(efetch.read())\n",
    "    return(file)\n",
    "def spike_binding_part_to_ACE2(COVID_19_fasta):\n",
    "    out = open('/Users/zunqiuwang/Bioinfo assignments/Final Project/final codes/spike_binding_part_to_ACE2 200.txt', 'w')\n",
    "    from Bio import SeqIO\n",
    "    SARS_spike_prot_list = SeqIO.parse(COVID_19_fasta, 'fasta') #using SeqIO to parse fasta file\n",
    "    for x in SARS_spike_prot_list:\n",
    "        if 'ACE2' in x.description:  # extract only 'ACE2' in description\n",
    "            ACE_2_spike_binding = x.seq\n",
    "            out.write(str(x.description) + '\\n' + str(ACE_2_spike_binding) + '\\n')"
   ]
  },
  {
   "cell_type": "code",
   "execution_count": 449,
   "metadata": {},
   "outputs": [],
   "source": [
    "spike_binding_part_to_ACE2(fasta_data('SARS-CoV-2 Spike protein'))"
   ]
  },
  {
   "cell_type": "code",
   "execution_count": 452,
   "metadata": {},
   "outputs": [],
   "source": [
    "# Determine the part of the spike that binds to the ACE2 receptor. Get a list of 200 fasta sequences based on term 'spike receptor-binding domain ACE2' and run an msa.\n",
    "def fasta_data(name):\n",
    "    from Bio import Entrez\n",
    "    Entrez.email = 'zw2946@nyu.edu'\n",
    "    handle = Entrez.esearch(db='protein', term=name, retmax=200) #search based on term 'spike receptor-binding domain ACE2' and return 200 seqs\n",
    "    record = Entrez.read(handle)\n",
    "    id_list = record['IdList']\n",
    "    efetch = Entrez.efetch(db='protein', id = id_list, rettype ='fasta', retmode = 'text') #fetch based on idlist \n",
    "    file = '/Users/zunqiuwang/Bioinfo assignments/Final Project/final codes/%s 200.fasta' % name #write to file\n",
    "    out = open(file, 'w')\n",
    "    out.write(efetch.read())\n",
    "def MSA(fasta_data, name):\n",
    "    import os\n",
    "    from Bio.Align.Applications import ClustalOmegaCommandline #using ClustalOmega \n",
    "    in_file = '/Users/zunqiuwang/Bioinfo assignments/Final Project/final codes/%s 200.fasta' % name\n",
    "    out_file = '/Users/zunqiuwang/Bioinfo assignments/Final Project/final codes/%s_aligned_200seqs.aln' % name\n",
    "    clustalomega_cline = ClustalOmegaCommandline(infile=in_file, outfile=out_file, verbose=False, auto=False)\n",
    "    return(str(clustalomega_cline) + ' --resno' + ' --outfmt=clu')\n",
    "def runningMSA(MSA):\n",
    "    import os   # OS system to run MSA provided with command line\n",
    "    os.system(MSA)"
   ]
  },
  {
   "cell_type": "code",
   "execution_count": 453,
   "metadata": {},
   "outputs": [],
   "source": [
    "runningMSA(MSA(fasta_data('spike receptor-binding domain ACE2'),'spike receptor-binding domain ACE2'))"
   ]
  },
  {
   "cell_type": "code",
   "execution_count": 439,
   "metadata": {},
   "outputs": [],
   "source": [
    "# search UniProt db by term 'SARS-CoV-2 Spike protein' to retrieve protein family file\n",
    "def uniprot_file(name):\n",
    "    from bioservices import UniProt\n",
    "    u = UniProt(verbose=False)\n",
    "    search = u.search(name, frmt = 'tab' ) # Using Uniprot to search based on term \"SARS-CoV-2 Spike protein\" and return a table\n",
    "    file = '/Users/zunqiuwang/Bioinfo assignments/Final Project/final codes/SARS-CoV-2 Spike protein family whole file.txt'\n",
    "    out = open(file, 'w')\n",
    "    out.write(search) # write to file\n",
    "    return(file) # return file dir for the next function to read\n",
    "# determine 'SARS-CoV-2 Spike protein' protein family\n",
    "def uniprot_data(file): # read file dir returned from previous function\n",
    "    pair = {} # create empty dictionary\n",
    "    out = open('/Users/zunqiuwang/Bioinfo assignments/Final Project/final codes/SARS-CoV-2 Spike protein family data only.txt', 'w')\n",
    "    with open(file, 'r') as f:\n",
    "        for line in f: # read file as table\n",
    "            data = line.split('\\t') # split each line\n",
    "            pair[data[0]] = data[3] #passing key(entry),value(protein name) pair as to a dictionary \n",
    "        for k,v in pair.items(): # read each pair\n",
    "            if 'Spike protein' in v:\n",
    "                out.write(str(k) + '-->' + str(v) + '\\n') # write pairs to a file\n",
    "                return('UniprotKB:' + k) # create a UniprotKB ID to be read by QuickGo\n",
    "# Access GO and get GO file\n",
    "def GO(uniprotId):\n",
    "    from bioservices import QuickGO # create QuickGO session\n",
    "    go = QuickGO()\n",
    "    out = open('/Users/zunqiuwang/Bioinfo assignments/Final Project/final codes/%s GO_data.txt' % uniprotId, 'w')\n",
    "    res = go.Annotation(geneProductId = uniprotId) #get annotations from GO provided with a UniprotKB ID returned from previous function\n",
    "    out.write(str(res)) # returned data write to file\n",
    "    file = '/Users/zunqiuwang/Bioinfo assignments/Final Project/final codes/%s GO_data.txt' % uniprotId\n",
    "    return(file) # return file dir\n",
    "\n",
    "#get all GO Id\n",
    "def get_GO_id(file): # input of previous returned file dir\n",
    "    import re # import re module\n",
    "    with open(file, 'r') as f:\n",
    "        for line in f: # read file\n",
    "            find = re.findall(r'GO:[0-9]{7}', line) # using re to search based on GO ID pattern\n",
    "            return(set(find)) # return a set of GO ID witout duplications\n",
    "# get Go Id terms        \n",
    "def GO_terms(GO_id):\n",
    "    from bioservices import QuickGO # create QuickGO session\n",
    "    go = QuickGO()\n",
    "    out = open('/Users/zunqiuwang/Bioinfo assignments/Final Project/final codes/GO_terms.txt' ,'w')\n",
    "    for Id in GO_id: # read returned GO ID from previous function \n",
    "        out.write(str(go.get_go_terms(Id)) + '\\n') # get GO annotations/data for each GO ID "
   ]
  },
  {
   "cell_type": "code",
   "execution_count": 440,
   "metadata": {},
   "outputs": [],
   "source": [
    "GO_terms(get_GO_id(GO(uniprot_data(uniprot_file('SARS-CoV-2 Spike protein')))))"
   ]
  },
  {
   "cell_type": "code",
   "execution_count": 277,
   "metadata": {},
   "outputs": [],
   "source": [
    "# get genome id gn:T40361 from genome db with term 'SARS-CoV-2' using KEGG and re module\n",
    "def genome_id(name):\n",
    "    from bioservices import KEGG # create KEGG session\n",
    "    k = KEGG(verbose=False)\n",
    "    import re\n",
    "    genome = k.find(\"genome\", name) # using KEGG genome db to search based on term \"SARS-CoV-2\"\n",
    "    find = re.findall(r'(gn.[A-Z|0-9]{6})', genome) # using re module to locate gn ID\n",
    "    genome_id = ('').join(find) # convert to str\n",
    "    return(genome_id) # return gn ID\n",
    "# get disease id H02398 from KEGG using re module\n",
    "def disease_id(genome_id): #input of gn ID from previous function\n",
    "    import re\n",
    "    from bioservices import KEGG # create the session\n",
    "    k = KEGG(verbose=False)\n",
    "    genome_id_file = k.get(genome_id) # using KEGG to get annotation file\n",
    "    find = re.findall(r'(H[0-9]{5})', genome_id_file) # using re to locate disease ID based on pattern\n",
    "    disease_id = ('').join(find) # convert to str\n",
    "    return(disease_id) # return disease id\n",
    "#get COVID_19 file, write to file and find its pathway id using re module\n",
    "def pathway_id(disease_id): # input of disease ID from previous function\n",
    "    import re\n",
    "    from bioservices import KEGG \n",
    "    k = KEGG(verbose=False)\n",
    "    COVID_19_file = k.get(disease_id) # using KEGG to get annotations for diease ID\n",
    "    find = re.findall(r'(hsa[0-9]{5})', COVID_19_file) # using re to locate 'hsa' number\n",
    "    pathway_id = ('').join(find) # convert to str\n",
    "    out = open('/Users/zunqiuwang/Bioinfo assignments/Final Project/final codes/%s COVID_19 file.txt' % disease_id, 'w')\n",
    "    out.write(str(COVID_19_file)) # write annotations to file\n",
    "    return(pathway_id) # return 'hsa' ID"
   ]
  },
  {
   "cell_type": "code",
   "execution_count": 278,
   "metadata": {},
   "outputs": [
    {
     "data": {
      "text/plain": [
       "'hsa05171'"
      ]
     },
     "execution_count": 278,
     "metadata": {},
     "output_type": "execute_result"
    }
   ],
   "source": [
    "pathway_id(disease_id(genome_id('SARS-CoV-2')))"
   ]
  },
  {
   "cell_type": "code",
   "execution_count": 242,
   "metadata": {},
   "outputs": [],
   "source": [
    "# parse SARS-CoV-2 pathway image using pathway id and pdf output\n",
    "from Bio.KEGG.REST import *\n",
    "def draw_kegg_map(map_id): # input of 'hsa' number\n",
    "    from Bio import SeqIO # import relavant packages\n",
    "    from Bio.KEGG.KGML import KGML_parser\n",
    "    from Bio.Graphics.KGML_vis import KGMLCanvas\n",
    "    from Bio.Graphics.ColorSpiral import ColorSpiral\n",
    "    from IPython.display import Image, HTML\n",
    "    \n",
    "    pathway = KGML_parser.read(kegg_get(map_id, \"kgml\")) # 'kgml' parser read\n",
    "    canvas = KGMLCanvas(pathway, import_imagemap=True) # canvas parse\n",
    "    img_filename = \"/Users/zunqiuwang/Bioinfo assignments/Final Project/final codes/%s SARS-CoV-2 pathway.pdf\" % map_id\n",
    "    canvas.draw(img_filename) # canvas drawing"
   ]
  },
  {
   "cell_type": "code",
   "execution_count": 243,
   "metadata": {},
   "outputs": [],
   "source": [
    "draw_kegg_map(pathway_id(disease_id(genome_id('SARS-CoV-2'))))"
   ]
  },
  {
   "cell_type": "code",
   "execution_count": 244,
   "metadata": {},
   "outputs": [],
   "source": [
    "# parse KEGG file and write COVID_19_associated_genes to file\n",
    "def COVID_19_associated_genes(Id):\n",
    "    out = open('/Users/zunqiuwang/Bioinfo assignments/Final Project/final codes/COVID_19_associated_genes.txt', 'w')\n",
    "    from Bio.KEGG import REST # Get the genes for pathways and add them to a list\n",
    "    COVID_19_genes = []\n",
    "    COVID_19_file = REST.kegg_get(Id).read() \n",
    "    current_section = None\n",
    "    for line in COVID_19_file.rstrip().split('\\n'): # read each line\n",
    "        section = line[:12].strip()   # section names are within 12 columns by strip newlines\n",
    "        if not section == '':\n",
    "            current_section = section\n",
    "        if current_section == 'GENE': # look for \"GENE\" \n",
    "            gene_identifier, gene_description = line[12:].split(';')   # section names start from 12th columns and split based on \";\"\n",
    "            gene_id, gene_symbol = gene_identifier.split() # find gene symbol element by split\n",
    "            if not gene_symbol in COVID_19_genes:\n",
    "                COVID_19_genes.append(gene_symbol) # extract gene symbol and append in list\n",
    "    out.write(\", \".join(COVID_19_genes)) # write to file by convert to a str"
   ]
  },
  {
   "cell_type": "code",
   "execution_count": 245,
   "metadata": {},
   "outputs": [],
   "source": [
    "COVID_19_associated_genes(pathway_id(disease_id(genome_id('SARS-CoV-2'))))"
   ]
  },
  {
   "cell_type": "code",
   "execution_count": 246,
   "metadata": {},
   "outputs": [],
   "source": [
    "# parse KEGG file and write COVID_19_associated_pathways to file\n",
    "def COVID_19_associated_pathways(Id):\n",
    "    out = open('/Users/zunqiuwang/Bioinfo assignments/Final Project/final codes/COVID_19_associated_pathways.txt', 'w')\n",
    "    from Bio.KEGG import REST # Get the genes for pathways and add them to a list\n",
    "    COVID_19_file = REST.kegg_get(Id).read()\n",
    "    path_ids = [] # create empty list\n",
    "    net_ids = [] # create empty list\n",
    "    current_section = None\n",
    "    for line in COVID_19_file.rstrip().split('\\n'): # read each line, strip newlines\n",
    "        section = line[:12].strip()   # section names are within 12 columns by strip newlines\n",
    "        if not section == '':\n",
    "            current_section = section\n",
    "        if current_section == 'NETWORK': # look for \"NETWORK\"\n",
    "            path_id = line[12:].split('\\t') # section names start from 12th columns and split based on \"\\t\"\n",
    "            path_id = (',').join(path_id)  # covert to str\n",
    "            if not path_id in path_ids:\n",
    "                path_ids.append(path_id) # convert to list\n",
    "        if current_section == 'ELEMENT': # look for \"ELEMENT\"\n",
    "            net_id = line[12:].split('\\t') # section names start from 12th columns and split based on \"\\t\"\n",
    "            net_id = (',').join(net_id) # covert to str\n",
    "            if not net_id in net_ids:\n",
    "                net_ids.append(net_id) # convert to list\n",
    "    out.write((', ').join(path_ids) + '\\n' + (', ').join(net_ids)) # write to file by convert to a str"
   ]
  },
  {
   "cell_type": "code",
   "execution_count": 247,
   "metadata": {},
   "outputs": [],
   "source": [
    "COVID_19_associated_pathways(pathway_id(disease_id(genome_id('SARS-CoV-2'))))"
   ]
  },
  {
   "cell_type": "code",
   "execution_count": 250,
   "metadata": {},
   "outputs": [],
   "source": [
    "# parse KEGG file and write COVID_19_network_element_id_file to file\n",
    "def COVID_19_associated_paths(Id): #input \"hsa\" ID from previous functions\n",
    "    import re \n",
    "    from bioservices import KEGG \n",
    "    out = open('/Users/zunqiuwang/Bioinfo assignments/Final Project/final codes/COVID_19_associated_signaling_network_element_id_file.txt', 'w')\n",
    "    from Bio.KEGG import REST \n",
    "    k = KEGG(verbose=False)\n",
    "    COVID_19_file = REST.kegg_get(Id).read() # get annotation\n",
    "    find = re.findall(r'[n|N][a-z|0-9]{1}[0-9]{4}', COVID_19_file) #find \"NETWORK\" ID starting with \"n\" or \"N\"\n",
    "    network_id = ('\\t').join(find) # convert to str, separated by \"\\t\"\n",
    "    for x in network_id.split():\n",
    "        if re.findall(r'N[0-9]{5}', x): # extract only \"ELEMENT\" ID starting with \"N\"\n",
    "            out.write(k.get(x)) # get annotations of \"N\" ID"
   ]
  },
  {
   "cell_type": "code",
   "execution_count": 251,
   "metadata": {},
   "outputs": [],
   "source": [
    "COVID_19_associated_paths(pathway_id(disease_id(genome_id('SARS-CoV-2'))))"
   ]
  },
  {
   "cell_type": "code",
   "execution_count": 454,
   "metadata": {},
   "outputs": [],
   "source": [
    "# retrive path id using term 'Renin-angiotensin system' and return hsa id file \n",
    "def ACE2_id(term):\n",
    "    from bioservices import KEGG\n",
    "    import re\n",
    "    out = open ('/Users/zunqiuwang/Bioinfo assignments/Final Project/final codes/%s path_id_file.txt' % term, 'w')\n",
    "    k = KEGG(verbose=False)\n",
    "    entries = [] # create empty list\n",
    "    pathway_list = k.lookfor_pathway(term) #look for pathway with term 'Renin-angiotensin system'\n",
    "    for x in pathway_list:\n",
    "        entry = re.findall(r'([0-9]{5})', x) # using re module to search ID based on pattern\n",
    "        entries.append(entry) # passing id to list\n",
    "        entry = ('').join(entries[0]) # extract first ID number and cover to str\n",
    "        hsa_id = 'hsa' + entry # create a 'hsa' ID\n",
    "    out.write(str(k.get(hsa_id))) # get annotation \n",
    "    return(hsa_id)\n",
    "# then output pdf file of ACE2 path image\n",
    "def ACE2_path_image(hsa_id): # input 'hsa' ID from previous function\n",
    "    from Bio import SeqIO\n",
    "    from Bio.KEGG.KGML import KGML_parser #import KGML\n",
    "    from Bio.Graphics.KGML_vis import KGMLCanvas\n",
    "    from Bio.Graphics.ColorSpiral import ColorSpiral\n",
    "    from IPython.display import Image, HTML\n",
    "    pathway = KGML_parser.read(kegg_get(hsa_id, \"kgml\")) # read pawthway in KGML\n",
    "    canvas = KGMLCanvas(pathway, import_imagemap=True) # canvas pathway\n",
    "    img_filename = \"/Users/zunqiuwang/Bioinfo assignments/Final Project/final codes/%s ACE2 pathway image.pdf\" % hsa_id\n",
    "    canvas.draw(img_filename) # output pdf image"
   ]
  },
  {
   "cell_type": "code",
   "execution_count": 455,
   "metadata": {},
   "outputs": [],
   "source": [
    "ACE2_path_image(ACE2_id('Renin-angiotensin system'))"
   ]
  },
  {
   "cell_type": "code",
   "execution_count": null,
   "metadata": {},
   "outputs": [],
   "source": []
  }
 ],
 "metadata": {
  "kernelspec": {
   "display_name": "Python 3",
   "language": "python",
   "name": "python3"
  },
  "language_info": {
   "codemirror_mode": {
    "name": "ipython",
    "version": 3
   },
   "file_extension": ".py",
   "mimetype": "text/x-python",
   "name": "python",
   "nbconvert_exporter": "python",
   "pygments_lexer": "ipython3",
   "version": "3.6.6+"
  }
 },
 "nbformat": 4,
 "nbformat_minor": 4
}
